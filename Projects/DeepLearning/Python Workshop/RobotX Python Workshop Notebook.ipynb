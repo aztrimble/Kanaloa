{
 "cells": [
  {
   "cell_type": "markdown",
   "metadata": {},
   "source": [
    "# <center> Welcome to the Team Kanaloa Python Workshop </center>\n",
    "## Agenda:\n",
    "-  Installing Anaconda\n",
    "-  Creating an Anaconda Environment \n",
    "-  Github Overview\n",
    "-  Using Jupyter Notebooks\n",
    "-  Learning the Basics of Python\n",
    "-  Importing Libraries\n",
    "-  Numpy Overview\n",
    "-  Pandas Overview\n",
    "-  Scikitlearn Overview\n",
    "-  Plotting with matplotlib"
   ]
  },
  {
   "cell_type": "markdown",
   "metadata": {},
   "source": [
    "# _<font color=green>Python</font>_ Basics\n",
    "Almost every time you learn a new programming language, you generally will start by making a \"Hello World!\" project. So thats exactly what we will do here."
   ]
  },
  {
   "cell_type": "code",
   "execution_count": null,
   "metadata": {},
   "outputs": [],
   "source": [
    "#TODO print \"Hello World\" using the print() function\n",
    "\n"
   ]
  },
  {
   "cell_type": "markdown",
   "metadata": {},
   "source": [
    "### Variables\n",
    "We can accomplish the same task as above by first assigning the string \"Hello World\" to a variable and then printing that variable."
   ]
  },
  {
   "cell_type": "code",
   "execution_count": null,
   "metadata": {},
   "outputs": [],
   "source": [
    "#TODO assign a variable to the string \"Hello World\" and then print() the variable\n",
    "\n"
   ]
  },
  {
   "cell_type": "markdown",
   "metadata": {},
   "source": [
    "### Data Types\n",
    "There are a few main data types when using python. When creating a variable, python will automatically set and change the data type of a variable as needed. These variable types include integer, float, string, boolean, list, dictionary, tuple, and set. You can check the data type of a variable using the type() function."
   ]
  },
  {
   "cell_type": "code",
   "execution_count": null,
   "metadata": {},
   "outputs": [],
   "source": [
    "#TODO Create variables with all the different data types listed above, then print the data type using type()\n",
    "\n",
    "# Enter a value that corresponds to the variable name\n",
    "integer_variable = \n",
    "float_variable = \n",
    "string_variable = \n",
    "boolean_variable =\n",
    "list_variable = \n",
    "dictionary_variable =\n",
    "tuple_variable = \n",
    "set_variable = \n",
    "\n",
    "# Use the type() function with the variables you created above\n",
    "integer_type = type(integer_variable)\n",
    "float_type = \n",
    "string_type = \n",
    "boolean_type = \n",
    "list_type = \n",
    "dictionary_type = \n",
    "tuple_type = \n",
    "set_type = \n",
    "\n",
    "#Do not edit this part\n",
    "print(integer_type)\n",
    "print(float_type)\n",
    "print(string_type)\n",
    "print(boolean_type)\n",
    "print(list_type)\n",
    "print(dictionary_type)\n",
    "print(tuple_type)\n",
    "print(set_type)"
   ]
  },
  {
   "cell_type": "markdown",
   "metadata": {},
   "source": [
    "### If Else statements\n",
    "If statements are used to run a section of code only if some condition is met. Else can be used to run a section of code in case the if statement condition is not met. This is also where python syntax really starts coming into play. Remember, python has a line and tab based coding syntax. Thus an example of an if else statement is as follow:"
   ]
  },
  {
   "cell_type": "code",
   "execution_count": null,
   "metadata": {},
   "outputs": [],
   "source": [
    "if True:\n",
    "    print('It works!')\n",
    "else:\n",
    "    print('Something went wrong')"
   ]
  },
  {
   "cell_type": "markdown",
   "metadata": {},
   "source": [
    "### Operators\n",
    "In the example above, we just said \"if Ture:\", this ran the snippet of code because the condition of the if statemnet was True. However, if statements are most useful with operators to prove that a variable is equal to something. The following operators include:<br>\n",
    "\"==\" ~ Equals to <br>\n",
    "\">=\" ~ Greater than or equal to <br>\n",
    "\"<=\" ~ Less than or qual to <br>\n",
    "\"<\"  ~ Less Than <br>\n",
    "\">\"  ~ Greater Than <br>\n",
    "\"!=\" ~ Not Equal to <br>"
   ]
  },
  {
   "cell_type": "code",
   "execution_count": null,
   "metadata": {},
   "outputs": [],
   "source": [
    "#TODO Create a variable, then use a if else statement to check the value of that variable. \n",
    "#If true print 'True', else print 'False' \n",
    "\n"
   ]
  },
  {
   "cell_type": "markdown",
   "metadata": {},
   "source": [
    "### Multiple Conditions with elif\n",
    "You may want to check for different values of a variable, this can be accomplished with elif (else if) statements"
   ]
  },
  {
   "cell_type": "code",
   "execution_count": null,
   "metadata": {},
   "outputs": [],
   "source": [
    "#TODO Create a if statements that checks if the variable 'a' is equal to 1 or 2\n",
    "#print the value of 'a' if it is equal to 1 or 2, else print 'a does not equal 1 or 2'\n",
    "\n",
    "a = 1\n",
    "\n"
   ]
  },
  {
   "cell_type": "markdown",
   "metadata": {},
   "source": [
    "### For Loops\n",
    "Sometime you are going to want to keep repeating an action until a condition is met. This is where for loops can be used."
   ]
  },
  {
   "cell_type": "code",
   "execution_count": null,
   "metadata": {},
   "outputs": [],
   "source": [
    "for i in range(3):\n",
    "    print(i)"
   ]
  },
  {
   "cell_type": "markdown",
   "metadata": {},
   "source": [
    "In the above example, we used the 'in' keyword and the range() function. The range() function simply creates a list of integers from 0 to the number put into the function minus 1. This can be thought of as creating 3 entries starting from 0, thus we get the results 0,1,2. The 'in' keyword in this example is used to set the variable i to the value of the list, and then iterates with the for loop."
   ]
  },
  {
   "cell_type": "code",
   "execution_count": null,
   "metadata": {},
   "outputs": [],
   "source": [
    "##TODO create a for loop that uses the predefined list 'l' and prints each of its values individually\n",
    "\n",
    "l = [1,3,50,8,9]\n"
   ]
  },
  {
   "cell_type": "markdown",
   "metadata": {},
   "source": [
    "### Functions\n",
    "Sometimes you will be doing a task repeatedly throughout different parts of your code. Rather than rewriting the same code over and over again, functions can be created and called. Here is an example of how functions are defined:"
   ]
  },
  {
   "cell_type": "code",
   "execution_count": null,
   "metadata": {},
   "outputs": [],
   "source": [
    "def func1():\n",
    "    print('This is function 1')\n",
    "    \n",
    "func1()"
   ]
  },
  {
   "cell_type": "markdown",
   "metadata": {},
   "source": [
    "Sometimes you are going to want more complicated functions, that do multiple things and take in certain inputs, that can be done by the following:"
   ]
  },
  {
   "cell_type": "code",
   "execution_count": null,
   "metadata": {},
   "outputs": [],
   "source": [
    "def func2(a, b):\n",
    "    sum_variables = a + b\n",
    "    difference = b - a\n",
    "    return sum_variables, difference\n",
    "\n",
    "c, d = func2(3, 4)\n",
    "print(c)\n",
    "print(d)"
   ]
  },
  {
   "cell_type": "markdown",
   "metadata": {},
   "source": [
    "### Functions Challenge\n",
    "Create a function that takes a list as an input and prints all the items in that list. Then return the number of items in the list. Call the function to ensure it works properly"
   ]
  },
  {
   "cell_type": "code",
   "execution_count": null,
   "metadata": {
    "collapsed": true
   },
   "outputs": [],
   "source": [
    "##TODO Create a function called talker() that takes a list as an input and prints all the items individually\n",
    "#Then return the number of items in the list\n",
    "\n"
   ]
  },
  {
   "cell_type": "markdown",
   "metadata": {},
   "source": [
    "### Importing external Libraries\n",
    "Libraries (or sometimes called modules) are used to complete a higher order task, without you having to manually write all the python code yourself. In this Section of the notebook we will be using some popular python libraries including Numpy, Pandas, and Matplotlib. To import a library simply type 'import' followed by the name of the library, like such:"
   ]
  },
  {
   "cell_type": "code",
   "execution_count": null,
   "metadata": {
    "collapsed": true
   },
   "outputs": [],
   "source": [
    "import numpy"
   ]
  },
  {
   "cell_type": "markdown",
   "metadata": {},
   "source": [
    "If you get an error when running the cell above, it means you do not have the library installed or associated with the version of python you are using. This can be fixed by going to your terminal of your computer and running <br>\n",
    "_pip install numpy_ <br>\n",
    "or if using anaconda use: <br>\n",
    "_conda install numpy_\n",
    "\n",
    "Some Libraries have very long names, so when using the functions in those libraries it may be more convininet to abbreviate the name of the library. This can be done as such:"
   ]
  },
  {
   "cell_type": "code",
   "execution_count": null,
   "metadata": {
    "collapsed": true
   },
   "outputs": [],
   "source": [
    "import numpy as np"
   ]
  },
  {
   "cell_type": "markdown",
   "metadata": {},
   "source": [
    "Now when you want to use a function from numpy, you will write: <br>\n",
    "_ np.functionName()_ <br> \n",
    "rather than<br>\n",
    "_ numpy.functionName()_\n",
    "\n",
    "Sometimes you will only want to use a specific function from the library, this can be specified as such:"
   ]
  },
  {
   "cell_type": "code",
   "execution_count": null,
   "metadata": {
    "collapsed": true
   },
   "outputs": [],
   "source": [
    "from numpy import zeros"
   ]
  },
  {
   "cell_type": "markdown",
   "metadata": {},
   "source": [
    "Now you can run that function without needing to associate the library name to it. Like such:"
   ]
  },
  {
   "cell_type": "code",
   "execution_count": null,
   "metadata": {},
   "outputs": [],
   "source": [
    "c = zeros(3)\n",
    "print(c)"
   ]
  },
  {
   "cell_type": "markdown",
   "metadata": {},
   "source": [
    "## Numpy Overview\n"
   ]
  },
  {
   "cell_type": "code",
   "execution_count": null,
   "metadata": {
    "collapsed": true
   },
   "outputs": [],
   "source": [
    "import numpy as np"
   ]
  },
  {
   "cell_type": "markdown",
   "metadata": {},
   "source": [
    "### Arrays"
   ]
  },
  {
   "cell_type": "code",
   "execution_count": null,
   "metadata": {},
   "outputs": [],
   "source": [
    "my_list = [0,1,2,3,4]\n",
    "arr = np.array(my_list)\n",
    "arr"
   ]
  },
  {
   "cell_type": "code",
   "execution_count": null,
   "metadata": {},
   "outputs": [],
   "source": [
    "np.arange(0,10)"
   ]
  },
  {
   "cell_type": "code",
   "execution_count": null,
   "metadata": {},
   "outputs": [],
   "source": [
    "np.arange(0,10,2)"
   ]
  },
  {
   "cell_type": "code",
   "execution_count": null,
   "metadata": {},
   "outputs": [],
   "source": [
    "np.zeros((5,5))"
   ]
  },
  {
   "cell_type": "code",
   "execution_count": null,
   "metadata": {},
   "outputs": [],
   "source": [
    "np.ones((2,4))"
   ]
  },
  {
   "cell_type": "code",
   "execution_count": null,
   "metadata": {},
   "outputs": [],
   "source": [
    "np.random.randint(0,10)"
   ]
  },
  {
   "cell_type": "code",
   "execution_count": null,
   "metadata": {},
   "outputs": [],
   "source": [
    "np.random.randint(0,10,(3,3))"
   ]
  },
  {
   "cell_type": "code",
   "execution_count": null,
   "metadata": {},
   "outputs": [],
   "source": [
    "np.linspace(0,10,6)"
   ]
  },
  {
   "cell_type": "code",
   "execution_count": null,
   "metadata": {},
   "outputs": [],
   "source": [
    "np.linspace(0,10,101)"
   ]
  },
  {
   "cell_type": "markdown",
   "metadata": {},
   "source": [
    "### Operations"
   ]
  },
  {
   "cell_type": "code",
   "execution_count": null,
   "metadata": {},
   "outputs": [],
   "source": [
    "np.random.seed(101) # Sets a seed so that randomly generated numbers are always the same order (not so 'random')\n",
    "arr = np.random.randint(0,100,10)\n",
    "arr"
   ]
  },
  {
   "cell_type": "code",
   "execution_count": null,
   "metadata": {},
   "outputs": [],
   "source": [
    "arr.max()"
   ]
  },
  {
   "cell_type": "code",
   "execution_count": null,
   "metadata": {},
   "outputs": [],
   "source": [
    "arr.min()"
   ]
  },
  {
   "cell_type": "code",
   "execution_count": null,
   "metadata": {},
   "outputs": [],
   "source": [
    "arr.mean()"
   ]
  },
  {
   "cell_type": "code",
   "execution_count": null,
   "metadata": {},
   "outputs": [],
   "source": [
    "arr.reshape(2,5)"
   ]
  },
  {
   "cell_type": "markdown",
   "metadata": {},
   "source": [
    "### Indexing"
   ]
  },
  {
   "cell_type": "code",
   "execution_count": null,
   "metadata": {},
   "outputs": [],
   "source": [
    "mat = np.arange(0,100).reshape(10,10)\n",
    "mat"
   ]
  },
  {
   "cell_type": "code",
   "execution_count": null,
   "metadata": {},
   "outputs": [],
   "source": [
    "row = 0\n",
    "col = 1\n",
    "mat[row, col]"
   ]
  },
  {
   "cell_type": "code",
   "execution_count": null,
   "metadata": {},
   "outputs": [],
   "source": [
    "mat[:, col]"
   ]
  },
  {
   "cell_type": "code",
   "execution_count": null,
   "metadata": {},
   "outputs": [],
   "source": [
    "mat[0:3,0:3]"
   ]
  },
  {
   "cell_type": "markdown",
   "metadata": {},
   "source": [
    "### Masking"
   ]
  },
  {
   "cell_type": "code",
   "execution_count": null,
   "metadata": {},
   "outputs": [],
   "source": [
    "mat > 50"
   ]
  },
  {
   "cell_type": "code",
   "execution_count": null,
   "metadata": {},
   "outputs": [],
   "source": [
    "mat[mat>50]"
   ]
  },
  {
   "cell_type": "markdown",
   "metadata": {},
   "source": [
    "### Numpy Project\n",
    "Use the functions above to create a 5x5 matrix from starting from number 0 and incrementing by 5.\n",
    "Print the matrix, then print the number that is in the 2nd row and 3rd column. \n",
    "Then create a 2x2 matrix of random numbers ranging from 0 to 100 using seed number 43, print this matrix and the max value in it"
   ]
  },
  {
   "cell_type": "code",
   "execution_count": null,
   "metadata": {},
   "outputs": [],
   "source": [
    "#TODO create the matricies and print the results specified above\n",
    "\n"
   ]
  },
  {
   "cell_type": "markdown",
   "metadata": {},
   "source": [
    "## Pandas Overview\n",
    "## This Section of the notebook is currently incomplete"
   ]
  },
  {
   "cell_type": "code",
   "execution_count": null,
   "metadata": {
    "collapsed": true
   },
   "outputs": [],
   "source": [
    "##TODO import the pandas module as pd\n"
   ]
  },
  {
   "cell_type": "code",
   "execution_count": null,
   "metadata": {},
   "outputs": [],
   "source": [
    "pwd"
   ]
  },
  {
   "cell_type": "markdown",
   "metadata": {},
   "source": [
    "## Matplotlib Overview"
   ]
  },
  {
   "cell_type": "code",
   "execution_count": null,
   "metadata": {
    "collapsed": true
   },
   "outputs": [],
   "source": [
    "##TODO import matplotlib.pyplot module as plt\n"
   ]
  },
  {
   "cell_type": "code",
   "execution_count": null,
   "metadata": {
    "collapsed": true
   },
   "outputs": [],
   "source": [
    "#Add this in for graphs to appear in the notebook rather than in a seperate window\n",
    "%matplotlib inline"
   ]
  },
  {
   "cell_type": "code",
   "execution_count": null,
   "metadata": {},
   "outputs": [],
   "source": [
    "x = np.arange(0,10)\n",
    "x"
   ]
  },
  {
   "cell_type": "code",
   "execution_count": null,
   "metadata": {
    "collapsed": true
   },
   "outputs": [],
   "source": [
    "y = x**2"
   ]
  },
  {
   "cell_type": "code",
   "execution_count": null,
   "metadata": {},
   "outputs": [],
   "source": [
    "plt.plot(x,y, \"r--\")    #Defines what lists of data to plot\n",
    "plt.xlim(0,4)           #Defines the limit of x-axis\n",
    "plt.ylim(0,10)          #Defines the limit of y-axis\n",
    "plt.title(\"Title\")      #Displays a title at the top of the graph\n",
    "plt.xlabel(\"x-label\")   #Labels the x-axis\n",
    "plt.ylabel(\"y-label\")   #Labels the y-axis"
   ]
  },
  {
   "cell_type": "code",
   "execution_count": null,
   "metadata": {
    "collapsed": true
   },
   "outputs": [],
   "source": []
  }
 ],
 "metadata": {
  "kernelspec": {
   "display_name": "Python 3",
   "language": "python",
   "name": "python3"
  },
  "language_info": {
   "codemirror_mode": {
    "name": "ipython",
    "version": 3
   },
   "file_extension": ".py",
   "mimetype": "text/x-python",
   "name": "python",
   "nbconvert_exporter": "python",
   "pygments_lexer": "ipython3",
   "version": "3.5.4"
  }
 },
 "nbformat": 4,
 "nbformat_minor": 2
}
